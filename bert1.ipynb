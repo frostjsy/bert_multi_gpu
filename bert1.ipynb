{
 "cells": [
  {
   "cell_type": "code",
   "execution_count": 61,
   "metadata": {},
   "outputs": [],
   "source": [
    "import numpy as np\n",
    "import pandas as pd\n",
    "pd.set_option('max_columns', 105)\n",
    "import matplotlib.pyplot as plt\n",
    "import seaborn as sns\n",
    "from scipy import stats\n",
    "%matplotlib inline\n",
    "sns.set()\n",
    "\n",
    "import warnings\n",
    "warnings.filterwarnings(\"ignore\", category=FutureWarning)\n",
    "warnings.filterwarnings(\"ignore\", category=DeprecationWarning)\n",
    "warnings.filterwarnings(\"ignore\")"
   ]
  },
  {
   "cell_type": "code",
   "execution_count": 99,
   "metadata": {},
   "outputs": [
    {
     "name": "stdout",
     "output_type": "stream",
     "text": [
      "(347128, 4)\n"
     ]
    },
    {
     "data": {
      "text/html": [
       "<div>\n",
       "<style scoped>\n",
       "    .dataframe tbody tr th:only-of-type {\n",
       "        vertical-align: middle;\n",
       "    }\n",
       "\n",
       "    .dataframe tbody tr th {\n",
       "        vertical-align: top;\n",
       "    }\n",
       "\n",
       "    .dataframe thead th {\n",
       "        text-align: right;\n",
       "    }\n",
       "</style>\n",
       "<table border=\"1\" class=\"dataframe\">\n",
       "  <thead>\n",
       "    <tr style=\"text-align: right;\">\n",
       "      <th></th>\n",
       "      <th>title</th>\n",
       "      <th>show</th>\n",
       "      <th>click</th>\n",
       "      <th>ctr</th>\n",
       "    </tr>\n",
       "  </thead>\n",
       "  <tbody>\n",
       "    <tr>\n",
       "      <th>0</th>\n",
       "      <td>富士康国内赚千亿，华为遭“断供”后带头撤离，郭台铭真“爱国”</td>\n",
       "      <td>1703</td>\n",
       "      <td>986</td>\n",
       "      <td>57.897827</td>\n",
       "    </tr>\n",
       "    <tr>\n",
       "      <th>1</th>\n",
       "      <td>华为5G领跑全球，中国移动却将77亿5G订单给外国？看不起华为吗？</td>\n",
       "      <td>2530</td>\n",
       "      <td>1444</td>\n",
       "      <td>57.075099</td>\n",
       "    </tr>\n",
       "    <tr>\n",
       "      <th>2</th>\n",
       "      <td>因拒绝高通芯片，这家中国企业差点倒闭，如今大力发展5G打脸美国</td>\n",
       "      <td>3097</td>\n",
       "      <td>1766</td>\n",
       "      <td>57.022925</td>\n",
       "    </tr>\n",
       "    <tr>\n",
       "      <th>3</th>\n",
       "      <td>两个日本“首富”，一个更换华为通讯基站，一个准备工厂迁出中国</td>\n",
       "      <td>1880</td>\n",
       "      <td>1065</td>\n",
       "      <td>56.648936</td>\n",
       "    </tr>\n",
       "    <tr>\n",
       "      <th>4</th>\n",
       "      <td>东方大国开启万亿级市场，美企巨头全部落选，白宫表示无法接受</td>\n",
       "      <td>1635</td>\n",
       "      <td>923</td>\n",
       "      <td>56.452599</td>\n",
       "    </tr>\n",
       "  </tbody>\n",
       "</table>\n",
       "</div>"
      ],
      "text/plain": [
       "                               title  show  click        ctr\n",
       "0     富士康国内赚千亿，华为遭“断供”后带头撤离，郭台铭真“爱国”  1703    986  57.897827\n",
       "1  华为5G领跑全球，中国移动却将77亿5G订单给外国？看不起华为吗？  2530   1444  57.075099\n",
       "2    因拒绝高通芯片，这家中国企业差点倒闭，如今大力发展5G打脸美国  3097   1766  57.022925\n",
       "3     两个日本“首富”，一个更换华为通讯基站，一个准备工厂迁出中国  1880   1065  56.648936\n",
       "4      东方大国开启万亿级市场，美企巨头全部落选，白宫表示无法接受  1635    923  56.452599"
      ]
     },
     "execution_count": 99,
     "metadata": {},
     "output_type": "execute_result"
    }
   ],
   "source": [
    "df1=pd.read_csv('qkk.csv')\n",
    "df1= df1.query('show > 1000')\n",
    "df2=pd.read_csv('sl.csv')\n",
    "df = df1.append(df2, ignore_index=True)\n",
    "print(df.shape)\n",
    "df.head()"
   ]
  },
  {
   "cell_type": "code",
   "execution_count": 100,
   "metadata": {},
   "outputs": [
    {
     "name": "stdout",
     "output_type": "stream",
     "text": [
      "[[1.00000000e+01]\n",
      " [9.85786467e+00]\n",
      " [9.84885114e+00]\n",
      " ...\n",
      " [6.65918356e-04]\n",
      " [1.83345798e-04]\n",
      " [0.00000000e+00]]\n"
     ]
    },
    {
     "data": {
      "text/html": [
       "<div>\n",
       "<style scoped>\n",
       "    .dataframe tbody tr th:only-of-type {\n",
       "        vertical-align: middle;\n",
       "    }\n",
       "\n",
       "    .dataframe tbody tr th {\n",
       "        vertical-align: top;\n",
       "    }\n",
       "\n",
       "    .dataframe thead th {\n",
       "        text-align: right;\n",
       "    }\n",
       "</style>\n",
       "<table border=\"1\" class=\"dataframe\">\n",
       "  <thead>\n",
       "    <tr style=\"text-align: right;\">\n",
       "      <th></th>\n",
       "      <th>title</th>\n",
       "      <th>ctr</th>\n",
       "    </tr>\n",
       "  </thead>\n",
       "  <tbody>\n",
       "    <tr>\n",
       "      <th>0</th>\n",
       "      <td>富士康国内赚千亿，华为遭“断供”后带头撤离，郭台铭真“爱国”</td>\n",
       "      <td>10.000000</td>\n",
       "    </tr>\n",
       "    <tr>\n",
       "      <th>1</th>\n",
       "      <td>华为5G领跑全球，中国移动却将77亿5G订单给外国？看不起华为吗？</td>\n",
       "      <td>9.857865</td>\n",
       "    </tr>\n",
       "    <tr>\n",
       "      <th>2</th>\n",
       "      <td>因拒绝高通芯片，这家中国企业差点倒闭，如今大力发展5G打脸美国</td>\n",
       "      <td>9.848851</td>\n",
       "    </tr>\n",
       "    <tr>\n",
       "      <th>3</th>\n",
       "      <td>林黛玉不过是替身，这个人才是宝玉真爱，曹雪芹早就言明二人有染</td>\n",
       "      <td>9.826760</td>\n",
       "    </tr>\n",
       "    <tr>\n",
       "      <th>4</th>\n",
       "      <td>两个日本“首富”，一个更换华为通讯基站，一个准备工厂迁出中国</td>\n",
       "      <td>9.784240</td>\n",
       "    </tr>\n",
       "  </tbody>\n",
       "</table>\n",
       "</div>"
      ],
      "text/plain": [
       "                               title        ctr\n",
       "0     富士康国内赚千亿，华为遭“断供”后带头撤离，郭台铭真“爱国”  10.000000\n",
       "1  华为5G领跑全球，中国移动却将77亿5G订单给外国？看不起华为吗？   9.857865\n",
       "2    因拒绝高通芯片，这家中国企业差点倒闭，如今大力发展5G打脸美国   9.848851\n",
       "3     林黛玉不过是替身，这个人才是宝玉真爱，曹雪芹早就言明二人有染   9.826760\n",
       "4     两个日本“首富”，一个更换华为通讯基站，一个准备工厂迁出中国   9.784240"
      ]
     },
     "execution_count": 100,
     "metadata": {},
     "output_type": "execute_result"
    }
   ],
   "source": [
    "df = df[df.title.apply(lambda x: len(str(x))>5)]\n",
    "df.sort_values(by=['ctr'],ascending=False,inplace=True)\n",
    "\n",
    "res= df[['title','ctr']].reset_index(drop=True)\n",
    "from sklearn.preprocessing import MinMaxScaler\n",
    "x = res['ctr'].values.astype(float).reshape(-1,1) \n",
    "min_max_scaler = MinMaxScaler(feature_range=(0.0, 10.0))\n",
    "x_scaled = min_max_scaler.fit_transform(x)\n",
    "print(x_scaled)\n",
    "res[\"ctr\"]= x_scaled\n",
    "\n",
    "res.head()"
   ]
  },
  {
   "cell_type": "code",
   "execution_count": 163,
   "metadata": {},
   "outputs": [
    {
     "data": {
      "text/html": [
       "<div>\n",
       "<style scoped>\n",
       "    .dataframe tbody tr th:only-of-type {\n",
       "        vertical-align: middle;\n",
       "    }\n",
       "\n",
       "    .dataframe tbody tr th {\n",
       "        vertical-align: top;\n",
       "    }\n",
       "\n",
       "    .dataframe thead th {\n",
       "        text-align: right;\n",
       "    }\n",
       "</style>\n",
       "<table border=\"1\" class=\"dataframe\">\n",
       "  <thead>\n",
       "    <tr style=\"text-align: right;\">\n",
       "      <th></th>\n",
       "      <th>ctr</th>\n",
       "    </tr>\n",
       "  </thead>\n",
       "  <tbody>\n",
       "    <tr>\n",
       "      <th>count</th>\n",
       "      <td>338243.000000</td>\n",
       "    </tr>\n",
       "    <tr>\n",
       "      <th>mean</th>\n",
       "      <td>15.857839</td>\n",
       "    </tr>\n",
       "    <tr>\n",
       "      <th>std</th>\n",
       "      <td>7.475295</td>\n",
       "    </tr>\n",
       "    <tr>\n",
       "      <th>min</th>\n",
       "      <td>0.014364</td>\n",
       "    </tr>\n",
       "    <tr>\n",
       "      <th>25%</th>\n",
       "      <td>11.440387</td>\n",
       "    </tr>\n",
       "    <tr>\n",
       "      <th>50%</th>\n",
       "      <td>15.645954</td>\n",
       "    </tr>\n",
       "    <tr>\n",
       "      <th>75%</th>\n",
       "      <td>20.095962</td>\n",
       "    </tr>\n",
       "    <tr>\n",
       "      <th>max</th>\n",
       "      <td>57.897827</td>\n",
       "    </tr>\n",
       "  </tbody>\n",
       "</table>\n",
       "</div>"
      ],
      "text/plain": [
       "                 ctr\n",
       "count  338243.000000\n",
       "mean       15.857839\n",
       "std         7.475295\n",
       "min         0.014364\n",
       "25%        11.440387\n",
       "50%        15.645954\n",
       "75%        20.095962\n",
       "max        57.897827"
      ]
     },
     "execution_count": 163,
     "metadata": {},
     "output_type": "execute_result"
    }
   ],
   "source": [
    "df.describe()"
   ]
  },
  {
   "cell_type": "code",
   "execution_count": 153,
   "metadata": {},
   "outputs": [
    {
     "data": {
      "text/plain": [
       "(24098, 4)"
      ]
     },
     "execution_count": 153,
     "metadata": {},
     "output_type": "execute_result"
    }
   ],
   "source": [
    "threshold= 30\n",
    "neg= df[df.ctr <= threshold]\n",
    "n=neg.shape[0]\n",
    "neg.shape"
   ]
  },
  {
   "cell_type": "code",
   "execution_count": 154,
   "metadata": {},
   "outputs": [
    {
     "name": "stdout",
     "output_type": "stream",
     "text": [
      "0.25349276664291687 0.7465072333570831\n"
     ]
    },
    {
     "data": {
      "text/plain": [
       "(8183, 4)"
      ]
     },
     "execution_count": 154,
     "metadata": {},
     "output_type": "execute_result"
    }
   ],
   "source": [
    "pos= df[df.ctr > threshold]\n",
    "p=pos.shape[0]\n",
    "print(p/(p+n) , n/(p+n))\n",
    "pos.shape\n"
   ]
  },
  {
   "cell_type": "code",
   "execution_count": 128,
   "metadata": {},
   "outputs": [],
   "source": [
    "neg['label'] = 0\n",
    "pos['label'] = 1"
   ]
  },
  {
   "cell_type": "code",
   "execution_count": 129,
   "metadata": {},
   "outputs": [
    {
     "name": "stdout",
     "output_type": "stream",
     "text": [
      "(56111, 2)\n"
     ]
    },
    {
     "data": {
      "text/html": [
       "<div>\n",
       "<style scoped>\n",
       "    .dataframe tbody tr th:only-of-type {\n",
       "        vertical-align: middle;\n",
       "    }\n",
       "\n",
       "    .dataframe tbody tr th {\n",
       "        vertical-align: top;\n",
       "    }\n",
       "\n",
       "    .dataframe thead th {\n",
       "        text-align: right;\n",
       "    }\n",
       "</style>\n",
       "<table border=\"1\" class=\"dataframe\">\n",
       "  <thead>\n",
       "    <tr style=\"text-align: right;\">\n",
       "      <th></th>\n",
       "      <th>title</th>\n",
       "      <th>label</th>\n",
       "    </tr>\n",
       "  </thead>\n",
       "  <tbody>\n",
       "    <tr>\n",
       "      <th>0</th>\n",
       "      <td>标致变道撞上劳斯莱斯，车主下车后，第一句话：三者险买了多少</td>\n",
       "      <td>0</td>\n",
       "    </tr>\n",
       "    <tr>\n",
       "      <th>1</th>\n",
       "      <td>孙莉马伊琍范冰冰罕见合影曝光，美貌各有千秋，粉丝却吵起来了</td>\n",
       "      <td>0</td>\n",
       "    </tr>\n",
       "    <tr>\n",
       "      <th>2</th>\n",
       "      <td>杨利伟出舱时，为何嘴角挂着血丝脸色苍白，到底发生了什么？</td>\n",
       "      <td>0</td>\n",
       "    </tr>\n",
       "    <tr>\n",
       "      <th>3</th>\n",
       "      <td>土豪210万的改装车，前后用了一吨废铁，一脚油门半包中华</td>\n",
       "      <td>0</td>\n",
       "    </tr>\n",
       "    <tr>\n",
       "      <th>4</th>\n",
       "      <td>“我和渣男前任分手后，他把我的裸照，一元一张公开网售”</td>\n",
       "      <td>0</td>\n",
       "    </tr>\n",
       "  </tbody>\n",
       "</table>\n",
       "</div>"
      ],
      "text/plain": [
       "                           title  label\n",
       "0  标致变道撞上劳斯莱斯，车主下车后，第一句话：三者险买了多少      0\n",
       "1  孙莉马伊琍范冰冰罕见合影曝光，美貌各有千秋，粉丝却吵起来了      0\n",
       "2   杨利伟出舱时，为何嘴角挂着血丝脸色苍白，到底发生了什么？      0\n",
       "3   土豪210万的改装车，前后用了一吨废铁，一脚油门半包中华      0\n",
       "4    “我和渣男前任分手后，他把我的裸照，一元一张公开网售”      0"
      ]
     },
     "execution_count": 129,
     "metadata": {},
     "output_type": "execute_result"
    }
   ],
   "source": [
    "n= neg[['title','label']]\n",
    "p= pos[['title','label']]\n",
    "res= pd.concat([n,p]).reset_index(drop=True)\n",
    "print(res.shape)\n",
    "res.head()\n"
   ]
  },
  {
   "cell_type": "code",
   "execution_count": 101,
   "metadata": {},
   "outputs": [
    {
     "name": "stdout",
     "output_type": "stream",
     "text": [
      "(312200, 2)\n",
      "(34689, 2)\n"
     ]
    }
   ],
   "source": [
    "# save to CSV\n",
    "from sklearn.utils import shuffle\n",
    "from sklearn.model_selection import train_test_split\n",
    "\n",
    "res = shuffle(res)\n",
    "\n",
    "tr,te= train_test_split(res, test_size=0.1)\n",
    "print(tr.shape)\n",
    "print(te.shape)\n",
    "tr.reset_index(drop=True,inplace=True)\n",
    "te.reset_index(drop=True,inplace=True)\n",
    "tr.to_csv('train.csv',header=False)\n",
    "te.to_csv('eval.csv',header=False)\n",
    "\n",
    "# df[['title','label']].to_csv('bert_shuffle.csv')"
   ]
  },
  {
   "cell_type": "markdown",
   "metadata": {},
   "source": [
    "# Load bert result\n",
    "---"
   ]
  },
  {
   "cell_type": "code",
   "execution_count": 48,
   "metadata": {},
   "outputs": [
    {
     "name": "stdout",
     "output_type": "stream",
     "text": [
      "(67956, 2)\n"
     ]
    }
   ],
   "source": [
    "df_raw=pd.read_csv('predict_raw.csv',header=None)\n",
    "df_raw.columns = ['title','label']\n",
    "print(df_raw.shape)"
   ]
  },
  {
   "cell_type": "code",
   "execution_count": 92,
   "metadata": {
    "collapsed": true
   },
   "outputs": [
    {
     "ename": "ValueError",
     "evalue": "Length of values does not match length of index",
     "output_type": "error",
     "traceback": [
      "\u001b[0;31m---------------------------------------------------------------------------\u001b[0m",
      "\u001b[0;31mValueError\u001b[0m                                Traceback (most recent call last)",
      "\u001b[0;32m<ipython-input-92-51d716c6dd22>\u001b[0m in \u001b[0;36m<module>\u001b[0;34m\u001b[0m\n\u001b[1;32m      3\u001b[0m \u001b[0mt\u001b[0m\u001b[0;34m=\u001b[0m\u001b[0mdf_res\u001b[0m\u001b[0;34m.\u001b[0m\u001b[0mvalues\u001b[0m\u001b[0;34m.\u001b[0m\u001b[0mtolist\u001b[0m\u001b[0;34m(\u001b[0m\u001b[0;34m)\u001b[0m\u001b[0;34m\u001b[0m\u001b[0;34m\u001b[0m\u001b[0m\n\u001b[1;32m      4\u001b[0m \u001b[0;34m\u001b[0m\u001b[0m\n\u001b[0;32m----> 5\u001b[0;31m \u001b[0mdf_raw\u001b[0m\u001b[0;34m[\u001b[0m\u001b[0;34m'prob'\u001b[0m\u001b[0;34m]\u001b[0m\u001b[0;34m=\u001b[0m\u001b[0mt\u001b[0m\u001b[0;34m\u001b[0m\u001b[0;34m\u001b[0m\u001b[0m\n\u001b[0m\u001b[1;32m      6\u001b[0m \u001b[0;34m\u001b[0m\u001b[0m\n\u001b[1;32m      7\u001b[0m \u001b[0;31m# df_raw['pre_label']= np.argmax(t, axis=1)\u001b[0m\u001b[0;34m\u001b[0m\u001b[0;34m\u001b[0m\u001b[0;34m\u001b[0m\u001b[0m\n",
      "\u001b[0;32m~/anaconda3/lib/python3.7/site-packages/pandas/core/frame.py\u001b[0m in \u001b[0;36m__setitem__\u001b[0;34m(self, key, value)\u001b[0m\n\u001b[1;32m   3368\u001b[0m         \u001b[0;32melse\u001b[0m\u001b[0;34m:\u001b[0m\u001b[0;34m\u001b[0m\u001b[0;34m\u001b[0m\u001b[0m\n\u001b[1;32m   3369\u001b[0m             \u001b[0;31m# set column\u001b[0m\u001b[0;34m\u001b[0m\u001b[0;34m\u001b[0m\u001b[0;34m\u001b[0m\u001b[0m\n\u001b[0;32m-> 3370\u001b[0;31m             \u001b[0mself\u001b[0m\u001b[0;34m.\u001b[0m\u001b[0m_set_item\u001b[0m\u001b[0;34m(\u001b[0m\u001b[0mkey\u001b[0m\u001b[0;34m,\u001b[0m \u001b[0mvalue\u001b[0m\u001b[0;34m)\u001b[0m\u001b[0;34m\u001b[0m\u001b[0;34m\u001b[0m\u001b[0m\n\u001b[0m\u001b[1;32m   3371\u001b[0m \u001b[0;34m\u001b[0m\u001b[0m\n\u001b[1;32m   3372\u001b[0m     \u001b[0;32mdef\u001b[0m \u001b[0m_setitem_slice\u001b[0m\u001b[0;34m(\u001b[0m\u001b[0mself\u001b[0m\u001b[0;34m,\u001b[0m \u001b[0mkey\u001b[0m\u001b[0;34m,\u001b[0m \u001b[0mvalue\u001b[0m\u001b[0;34m)\u001b[0m\u001b[0;34m:\u001b[0m\u001b[0;34m\u001b[0m\u001b[0;34m\u001b[0m\u001b[0m\n",
      "\u001b[0;32m~/anaconda3/lib/python3.7/site-packages/pandas/core/frame.py\u001b[0m in \u001b[0;36m_set_item\u001b[0;34m(self, key, value)\u001b[0m\n\u001b[1;32m   3443\u001b[0m \u001b[0;34m\u001b[0m\u001b[0m\n\u001b[1;32m   3444\u001b[0m         \u001b[0mself\u001b[0m\u001b[0;34m.\u001b[0m\u001b[0m_ensure_valid_index\u001b[0m\u001b[0;34m(\u001b[0m\u001b[0mvalue\u001b[0m\u001b[0;34m)\u001b[0m\u001b[0;34m\u001b[0m\u001b[0;34m\u001b[0m\u001b[0m\n\u001b[0;32m-> 3445\u001b[0;31m         \u001b[0mvalue\u001b[0m \u001b[0;34m=\u001b[0m \u001b[0mself\u001b[0m\u001b[0;34m.\u001b[0m\u001b[0m_sanitize_column\u001b[0m\u001b[0;34m(\u001b[0m\u001b[0mkey\u001b[0m\u001b[0;34m,\u001b[0m \u001b[0mvalue\u001b[0m\u001b[0;34m)\u001b[0m\u001b[0;34m\u001b[0m\u001b[0;34m\u001b[0m\u001b[0m\n\u001b[0m\u001b[1;32m   3446\u001b[0m         \u001b[0mNDFrame\u001b[0m\u001b[0;34m.\u001b[0m\u001b[0m_set_item\u001b[0m\u001b[0;34m(\u001b[0m\u001b[0mself\u001b[0m\u001b[0;34m,\u001b[0m \u001b[0mkey\u001b[0m\u001b[0;34m,\u001b[0m \u001b[0mvalue\u001b[0m\u001b[0;34m)\u001b[0m\u001b[0;34m\u001b[0m\u001b[0;34m\u001b[0m\u001b[0m\n\u001b[1;32m   3447\u001b[0m \u001b[0;34m\u001b[0m\u001b[0m\n",
      "\u001b[0;32m~/anaconda3/lib/python3.7/site-packages/pandas/core/frame.py\u001b[0m in \u001b[0;36m_sanitize_column\u001b[0;34m(self, key, value, broadcast)\u001b[0m\n\u001b[1;32m   3628\u001b[0m \u001b[0;34m\u001b[0m\u001b[0m\n\u001b[1;32m   3629\u001b[0m             \u001b[0;31m# turn me into an ndarray\u001b[0m\u001b[0;34m\u001b[0m\u001b[0;34m\u001b[0m\u001b[0;34m\u001b[0m\u001b[0m\n\u001b[0;32m-> 3630\u001b[0;31m             \u001b[0mvalue\u001b[0m \u001b[0;34m=\u001b[0m \u001b[0msanitize_index\u001b[0m\u001b[0;34m(\u001b[0m\u001b[0mvalue\u001b[0m\u001b[0;34m,\u001b[0m \u001b[0mself\u001b[0m\u001b[0;34m.\u001b[0m\u001b[0mindex\u001b[0m\u001b[0;34m,\u001b[0m \u001b[0mcopy\u001b[0m\u001b[0;34m=\u001b[0m\u001b[0;32mFalse\u001b[0m\u001b[0;34m)\u001b[0m\u001b[0;34m\u001b[0m\u001b[0;34m\u001b[0m\u001b[0m\n\u001b[0m\u001b[1;32m   3631\u001b[0m             \u001b[0;32mif\u001b[0m \u001b[0;32mnot\u001b[0m \u001b[0misinstance\u001b[0m\u001b[0;34m(\u001b[0m\u001b[0mvalue\u001b[0m\u001b[0;34m,\u001b[0m \u001b[0;34m(\u001b[0m\u001b[0mnp\u001b[0m\u001b[0;34m.\u001b[0m\u001b[0mndarray\u001b[0m\u001b[0;34m,\u001b[0m \u001b[0mIndex\u001b[0m\u001b[0;34m)\u001b[0m\u001b[0;34m)\u001b[0m\u001b[0;34m:\u001b[0m\u001b[0;34m\u001b[0m\u001b[0;34m\u001b[0m\u001b[0m\n\u001b[1;32m   3632\u001b[0m                 \u001b[0;32mif\u001b[0m \u001b[0misinstance\u001b[0m\u001b[0;34m(\u001b[0m\u001b[0mvalue\u001b[0m\u001b[0;34m,\u001b[0m \u001b[0mlist\u001b[0m\u001b[0;34m)\u001b[0m \u001b[0;32mand\u001b[0m \u001b[0mlen\u001b[0m\u001b[0;34m(\u001b[0m\u001b[0mvalue\u001b[0m\u001b[0;34m)\u001b[0m \u001b[0;34m>\u001b[0m \u001b[0;36m0\u001b[0m\u001b[0;34m:\u001b[0m\u001b[0;34m\u001b[0m\u001b[0;34m\u001b[0m\u001b[0m\n",
      "\u001b[0;32m~/anaconda3/lib/python3.7/site-packages/pandas/core/internals/construction.py\u001b[0m in \u001b[0;36msanitize_index\u001b[0;34m(data, index, copy)\u001b[0m\n\u001b[1;32m    517\u001b[0m \u001b[0;34m\u001b[0m\u001b[0m\n\u001b[1;32m    518\u001b[0m     \u001b[0;32mif\u001b[0m \u001b[0mlen\u001b[0m\u001b[0;34m(\u001b[0m\u001b[0mdata\u001b[0m\u001b[0;34m)\u001b[0m \u001b[0;34m!=\u001b[0m \u001b[0mlen\u001b[0m\u001b[0;34m(\u001b[0m\u001b[0mindex\u001b[0m\u001b[0;34m)\u001b[0m\u001b[0;34m:\u001b[0m\u001b[0;34m\u001b[0m\u001b[0;34m\u001b[0m\u001b[0m\n\u001b[0;32m--> 519\u001b[0;31m         \u001b[0;32mraise\u001b[0m \u001b[0mValueError\u001b[0m\u001b[0;34m(\u001b[0m\u001b[0;34m'Length of values does not match length of index'\u001b[0m\u001b[0;34m)\u001b[0m\u001b[0;34m\u001b[0m\u001b[0;34m\u001b[0m\u001b[0m\n\u001b[0m\u001b[1;32m    520\u001b[0m \u001b[0;34m\u001b[0m\u001b[0m\n\u001b[1;32m    521\u001b[0m     \u001b[0;32mif\u001b[0m \u001b[0misinstance\u001b[0m\u001b[0;34m(\u001b[0m\u001b[0mdata\u001b[0m\u001b[0;34m,\u001b[0m \u001b[0mABCIndexClass\u001b[0m\u001b[0;34m)\u001b[0m \u001b[0;32mand\u001b[0m \u001b[0;32mnot\u001b[0m \u001b[0mcopy\u001b[0m\u001b[0;34m:\u001b[0m\u001b[0;34m\u001b[0m\u001b[0;34m\u001b[0m\u001b[0m\n",
      "\u001b[0;31mValueError\u001b[0m: Length of values does not match length of index"
     ]
    }
   ],
   "source": [
    "df_res=pd.read_csv('./output_lr/test_results.csv',header=None)\n",
    "df_res.columns = ['prob1','prob2']\n",
    "t=df_res.values.tolist()\n",
    "\n",
    "df_raw['prob']=t\n",
    "\n",
    "# df_raw['pre_label']= np.argmax(t, axis=1)\n",
    "df_raw['confident']= [x[1] for x in t]\n",
    "df_raw['pre_label']= 0\n",
    "df_raw['pre_label'][df_raw.confident>0.5]=1\n",
    "\n",
    "# for eval\n",
    "df_tp= df_raw[(df_raw.label==1) & (df_raw.pre_label==1)]\n",
    "df_tn= df_raw[(df_raw.label==0) & (df_raw.pre_label==0)]\n",
    "df_fp= df_raw[(df_raw.label==0) & (df_raw.pre_label==1)]\n",
    "df_fn= df_raw[(df_raw.label==1) & (df_raw.pre_label==0)]\n",
    "tp = df_tp.shape[0]\n",
    "tn = df_tn.shape[0]\n",
    "fp = df_fp.shape[0]\n",
    "fn = df_fn.shape[0]\n",
    "n =df_raw.shape[0]\n",
    "df_raw.sort_values(by=['confident'],ascending=False,inplace=True)\n",
    "pd.options.display.max_rows = 4000\n",
    "df_raw.reset_index().head(1000)"
   ]
  },
  {
   "cell_type": "code",
   "execution_count": 133,
   "metadata": {},
   "outputs": [
    {
     "name": "stdout",
     "output_type": "stream",
     "text": [
      "tp= 395\n",
      "tn= 12721\n",
      "fp= 203\n",
      "fn= 3474\n",
      "n= 16793\n",
      "auc= 0.7374435023401417\n"
     ]
    },
    {
     "data": {
      "image/png": "[encoded data removed]",
      "text/plain": [
       "<Figure size 432x288 with 1 Axes>"
      ]
     },
     "metadata": {},
     "output_type": "display_data"
    }
   ],
   "source": [
    "print('tp=',tp)\n",
    "print('tn=',tn)\n",
    "print('fp=',fp)\n",
    "print('fn=',fn)\n",
    "print('n=',n)\n",
    "# accuracy = (tp+tn)/n\n",
    "# precision = tp / (tp+fp)\n",
    "# recall = tp / (tp+fn)\n",
    "# F1 = (2*precision*recall) / (precision+recall)\n",
    "# tpr = tp / (tp+fn)\n",
    "# fpr = fp / (fp+tn)\n",
    "\n",
    "# print('accuracy =',accuracy)\n",
    "# print('precision =',precision)\n",
    "# print('recall =',recall)\n",
    "# print('F1 score =',F1)\n",
    "# print('tpr =',tpr)\n",
    "# print('fpr =',fpr)\n",
    "from sklearn import metrics\n",
    "y=df_raw.label.values\n",
    "pred= df_raw.confident.values\n",
    "fpr, tpr, thresholds = metrics.roc_curve(y_true=y, y_score=pred, pos_label=1)\n",
    "roc_auc = metrics.auc(fpr, tpr)\n",
    "print('auc=', roc_auc)\n",
    "\n",
    "plt.figure()\n",
    "linewidth = 2\n",
    "plt.plot(fpr, tpr, color='darkorange',lw=linewidth, label='ROC curve (area = %0.2f)' % roc_auc)\n",
    "plt.plot([0, 1], [0, 1], color='navy', lw=linewidth, linestyle='--')\n",
    "plt.xlim([-0.05, 1.0])\n",
    "plt.ylim([0.0, 1.05])\n",
    "plt.xlabel('False Positive Rate')\n",
    "plt.ylabel('True Positive Rate')\n",
    "plt.title('Receiver Operating Characteristic')\n",
    "plt.legend(loc=\"lower right\")\n",
    "plt.show()"
   ]
  },
  {
   "cell_type": "code",
   "execution_count": 105,
   "metadata": {},
   "outputs": [
    {
     "data": {
      "text/plain": [
       "<matplotlib.axes._subplots.AxesSubplot at 0x7fed92d0a208>"
      ]
     },
     "execution_count": 105,
     "metadata": {},
     "output_type": "execute_result"
    },
    {
     "data": {
      "image/png": "[encoded data removed]",
      "text/plain": [
       "<Figure size 432x288 with 1 Axes>"
      ]
     },
     "metadata": {},
     "output_type": "display_data"
    }
   ],
   "source": [
    "# red dashes, blue squares and green triangles\n",
    "thresholds= np.array(thresholds.tolist()[1:])\n",
    "fpr= np.array(fpr.tolist()[1:])\n",
    "tpr =np.array(tpr.tolist()[1:])\n",
    "\n",
    "d = {'thresholds': thresholds,'fpr':fpr,'tpr':tpr}\n",
    "df_roc = pd.DataFrame(data=d)\n",
    "fig, ax = plt.subplots()\n",
    "sns.lineplot(data=df_roc)\n",
    "\n",
    "# idx= range(len(thresholds))\n",
    "# plt.plot(idx, thresholds, 'g--',idx, tpr, 'r--', idx, fpr, 'b--')\n",
    "# plt.show()\n",
    "# sns.lineplot(x=\"idx\", y=\"fpr\",ax= ax,data=df_roc,label='fpr')\n",
    "# sns.lineplot(x=\"idx\", y=\"tpr\",ax= ax,data=df_roc,label='tpr')\n",
    "# sns.lineplot(x=\"idx\", y=\"thresholds\",ax= ax,data=df_roc,label='thresholds')"
   ]
  },
  {
   "cell_type": "code",
   "execution_count": 247,
   "metadata": {
    "scrolled": true
   },
   "outputs": [
    {
     "data": {
      "text/html": [
       "<div>\n",
       "<style scoped>\n",
       "    .dataframe tbody tr th:only-of-type {\n",
       "        vertical-align: middle;\n",
       "    }\n",
       "\n",
       "    .dataframe tbody tr th {\n",
       "        vertical-align: top;\n",
       "    }\n",
       "\n",
       "    .dataframe thead th {\n",
       "        text-align: right;\n",
       "    }\n",
       "</style>\n",
       "<table border=\"1\" class=\"dataframe\">\n",
       "  <thead>\n",
       "    <tr style=\"text-align: right;\">\n",
       "      <th></th>\n",
       "      <th>title</th>\n",
       "      <th>label</th>\n",
       "      <th>prob</th>\n",
       "      <th>confident</th>\n",
       "      <th>pre_label</th>\n",
       "    </tr>\n",
       "  </thead>\n",
       "  <tbody>\n",
       "    <tr>\n",
       "      <th>1</th>\n",
       "      <td>美国少年敲错门连忙道歉，房主不由分说两枪将其打死辩称是自卫</td>\n",
       "      <td>1</td>\n",
       "      <td>[0.30041763, 0.69958234]</td>\n",
       "      <td>0.699582</td>\n",
       "      <td>1</td>\n",
       "    </tr>\n",
       "    <tr>\n",
       "      <th>4</th>\n",
       "      <td>达成三方交易？29＋15联盟顶级锋线赴休斯顿，哈登：无惧勇士</td>\n",
       "      <td>1</td>\n",
       "      <td>[0.34201820000000005, 0.6579818000000001]</td>\n",
       "      <td>0.657982</td>\n",
       "      <td>1</td>\n",
       "    </tr>\n",
       "    <tr>\n",
       "      <th>8</th>\n",
       "      <td>日本士兵光着膀子耀武扬威，中国老兵一枪毙命，结果日本举国哀痛</td>\n",
       "      <td>1</td>\n",
       "      <td>[0.37173873, 0.6282612]</td>\n",
       "      <td>0.628261</td>\n",
       "      <td>1</td>\n",
       "    </tr>\n",
       "    <tr>\n",
       "      <th>10</th>\n",
       "      <td>中国最难请的四位男星，周星驰只是一般难请，最后一位根本请不动</td>\n",
       "      <td>1</td>\n",
       "      <td>[0.38571566, 0.61428434]</td>\n",
       "      <td>0.614284</td>\n",
       "      <td>1</td>\n",
       "    </tr>\n",
       "    <tr>\n",
       "      <th>15</th>\n",
       "      <td>李姐笑话：小弟弟，姐姐上班要迟到了，你让姐姐坐这辆车行吗</td>\n",
       "      <td>0</td>\n",
       "      <td>[0.26687646, 0.73312354]</td>\n",
       "      <td>0.733124</td>\n",
       "      <td>1</td>\n",
       "    </tr>\n",
       "    <tr>\n",
       "      <th>23</th>\n",
       "      <td>离婚没多久，刘恺威还是原来的刘恺威，杨幂却不再是以前的杨幂</td>\n",
       "      <td>1</td>\n",
       "      <td>[0.33713812, 0.6628618000000001]</td>\n",
       "      <td>0.662862</td>\n",
       "      <td>1</td>\n",
       "    </tr>\n",
       "    <tr>\n",
       "      <th>40</th>\n",
       "      <td>刘备死后，诸葛亮为何不东征为他复仇，反而恢复吴蜀联盟</td>\n",
       "      <td>0</td>\n",
       "      <td>[0.25788996, 0.7421101]</td>\n",
       "      <td>0.742110</td>\n",
       "      <td>1</td>\n",
       "    </tr>\n",
       "    <tr>\n",
       "      <th>42</th>\n",
       "      <td>唐嫣曾为他险些轻生，后又求和被拒绝，如今却爱上60岁的她</td>\n",
       "      <td>1</td>\n",
       "      <td>[0.38988492, 0.6101151]</td>\n",
       "      <td>0.610115</td>\n",
       "      <td>1</td>\n",
       "    </tr>\n",
       "    <tr>\n",
       "      <th>46</th>\n",
       "      <td>他是国家一级演员，二婚娶小37岁娇妻，如今73岁还在挣钱养家</td>\n",
       "      <td>1</td>\n",
       "      <td>[0.36523387, 0.6347661]</td>\n",
       "      <td>0.634766</td>\n",
       "      <td>1</td>\n",
       "    </tr>\n",
       "    <tr>\n",
       "      <th>49</th>\n",
       "      <td>开心笑话：小时候爸爸妈妈总吵架，妈妈说等你考上大学我就离婚</td>\n",
       "      <td>1</td>\n",
       "      <td>[0.24664576, 0.75335425]</td>\n",
       "      <td>0.753354</td>\n",
       "      <td>1</td>\n",
       "    </tr>\n",
       "    <tr>\n",
       "      <th>50</th>\n",
       "      <td>我国退步最大的城市，曾经与上海不分上下，现如今地铁只开通2条</td>\n",
       "      <td>1</td>\n",
       "      <td>[0.34234000000000003, 0.65766]</td>\n",
       "      <td>0.657660</td>\n",
       "      <td>1</td>\n",
       "    </tr>\n",
       "    <tr>\n",
       "      <th>54</th>\n",
       "      <td>GIF搞笑趣图：就因为我拿了这么个东西，到街上被人追杀！</td>\n",
       "      <td>1</td>\n",
       "      <td>[0.3192711, 0.680729]</td>\n",
       "      <td>0.680729</td>\n",
       "      <td>1</td>\n",
       "    </tr>\n",
       "    <tr>\n",
       "      <th>75</th>\n",
       "      <td>以色列拉响战斗警报，50枚导弹突然来袭，铁穹击落大部分武器？</td>\n",
       "      <td>1</td>\n",
       "      <td>[0.19903241, 0.8009676]</td>\n",
       "      <td>0.800968</td>\n",
       "      <td>1</td>\n",
       "    </tr>\n",
       "    <tr>\n",
       "      <th>81</th>\n",
       "      <td>王刚老了，张国立老了，张铁林老了，唯独他62依旧像30多岁！</td>\n",
       "      <td>0</td>\n",
       "      <td>[0.31533649999999996, 0.6846635]</td>\n",
       "      <td>0.684663</td>\n",
       "      <td>1</td>\n",
       "    </tr>\n",
       "    <tr>\n",
       "      <th>93</th>\n",
       "      <td>27亿人口国家冰释前嫌，联手购买伊朗石油，美称此举已经无法接受</td>\n",
       "      <td>1</td>\n",
       "      <td>[0.1773607, 0.8226393]</td>\n",
       "      <td>0.822639</td>\n",
       "      <td>1</td>\n",
       "    </tr>\n",
       "    <tr>\n",
       "      <th>94</th>\n",
       "      <td>美无人机被什么打下来的？盘点伊朗防空“家底”</td>\n",
       "      <td>1</td>\n",
       "      <td>[0.25250936, 0.7474907]</td>\n",
       "      <td>0.747491</td>\n",
       "      <td>1</td>\n",
       "    </tr>\n",
       "    <tr>\n",
       "      <th>96</th>\n",
       "      <td>【笑话】：小姨子恋爱了，好像犯了花痴病</td>\n",
       "      <td>0</td>\n",
       "      <td>[0.3828778, 0.61712223]</td>\n",
       "      <td>0.617122</td>\n",
       "      <td>1</td>\n",
       "    </tr>\n",
       "    <tr>\n",
       "      <th>105</th>\n",
       "      <td>幽默笑话：一个比一个好笑！</td>\n",
       "      <td>0</td>\n",
       "      <td>[0.32382613, 0.6761739]</td>\n",
       "      <td>0.676174</td>\n",
       "      <td>1</td>\n",
       "    </tr>\n",
       "    <tr>\n",
       "      <th>114</th>\n",
       "      <td>西游孙悟空被压500年，并非天天无所事事，而是偷偷练就了2个神技</td>\n",
       "      <td>1</td>\n",
       "      <td>[0.3659771, 0.6340229000000001]</td>\n",
       "      <td>0.634023</td>\n",
       "      <td>1</td>\n",
       "    </tr>\n",
       "    <tr>\n",
       "      <th>121</th>\n",
       "      <td>二战中，苏联士兵吃的黑面包居然掺杂了木屑？其中却大有玄机</td>\n",
       "      <td>0</td>\n",
       "      <td>[0.24136683, 0.7586331999999999]</td>\n",
       "      <td>0.758633</td>\n",
       "      <td>1</td>\n",
       "    </tr>\n",
       "  </tbody>\n",
       "</table>\n",
       "</div>"
      ],
      "text/plain": [
       "                                title  label  \\\n",
       "1       美国少年敲错门连忙道歉，房主不由分说两枪将其打死辩称是自卫      1   \n",
       "4      达成三方交易？29＋15联盟顶级锋线赴休斯顿，哈登：无惧勇士      1   \n",
       "8      日本士兵光着膀子耀武扬威，中国老兵一枪毙命，结果日本举国哀痛      1   \n",
       "10     中国最难请的四位男星，周星驰只是一般难请，最后一位根本请不动      1   \n",
       "15       李姐笑话：小弟弟，姐姐上班要迟到了，你让姐姐坐这辆车行吗      0   \n",
       "23      离婚没多久，刘恺威还是原来的刘恺威，杨幂却不再是以前的杨幂      1   \n",
       "40         刘备死后，诸葛亮为何不东征为他复仇，反而恢复吴蜀联盟      0   \n",
       "42       唐嫣曾为他险些轻生，后又求和被拒绝，如今却爱上60岁的她      1   \n",
       "46     他是国家一级演员，二婚娶小37岁娇妻，如今73岁还在挣钱养家      1   \n",
       "49      开心笑话：小时候爸爸妈妈总吵架，妈妈说等你考上大学我就离婚      1   \n",
       "50     我国退步最大的城市，曾经与上海不分上下，现如今地铁只开通2条      1   \n",
       "54       GIF搞笑趣图：就因为我拿了这么个东西，到街上被人追杀！      1   \n",
       "75     以色列拉响战斗警报，50枚导弹突然来袭，铁穹击落大部分武器？      1   \n",
       "81     王刚老了，张国立老了，张铁林老了，唯独他62依旧像30多岁！      0   \n",
       "93    27亿人口国家冰释前嫌，联手购买伊朗石油，美称此举已经无法接受      1   \n",
       "94             美无人机被什么打下来的？盘点伊朗防空“家底”      1   \n",
       "96                【笑话】：小姨子恋爱了，好像犯了花痴病      0   \n",
       "105                     幽默笑话：一个比一个好笑！      0   \n",
       "114  西游孙悟空被压500年，并非天天无所事事，而是偷偷练就了2个神技      1   \n",
       "121      二战中，苏联士兵吃的黑面包居然掺杂了木屑？其中却大有玄机      0   \n",
       "\n",
       "                                          prob  confident  pre_label  \n",
       "1                     [0.30041763, 0.69958234]   0.699582          1  \n",
       "4    [0.34201820000000005, 0.6579818000000001]   0.657982          1  \n",
       "8                      [0.37173873, 0.6282612]   0.628261          1  \n",
       "10                    [0.38571566, 0.61428434]   0.614284          1  \n",
       "15                    [0.26687646, 0.73312354]   0.733124          1  \n",
       "23            [0.33713812, 0.6628618000000001]   0.662862          1  \n",
       "40                     [0.25788996, 0.7421101]   0.742110          1  \n",
       "42                     [0.38988492, 0.6101151]   0.610115          1  \n",
       "46                     [0.36523387, 0.6347661]   0.634766          1  \n",
       "49                    [0.24664576, 0.75335425]   0.753354          1  \n",
       "50              [0.34234000000000003, 0.65766]   0.657660          1  \n",
       "54                       [0.3192711, 0.680729]   0.680729          1  \n",
       "75                     [0.19903241, 0.8009676]   0.800968          1  \n",
       "81            [0.31533649999999996, 0.6846635]   0.684663          1  \n",
       "93                      [0.1773607, 0.8226393]   0.822639          1  \n",
       "94                     [0.25250936, 0.7474907]   0.747491          1  \n",
       "96                     [0.3828778, 0.61712223]   0.617122          1  \n",
       "105                    [0.32382613, 0.6761739]   0.676174          1  \n",
       "114            [0.3659771, 0.6340229000000001]   0.634023          1  \n",
       "121           [0.24136683, 0.7586331999999999]   0.758633          1  "
      ]
     },
     "execution_count": 247,
     "metadata": {},
     "output_type": "execute_result"
    }
   ],
   "source": [
    "df_raw.query('confident>0.6').head(20)"
   ]
  },
  {
   "cell_type": "markdown",
   "metadata": {
    "scrolled": true
   },
   "source": [
    "# Load Regression result"
   ]
  },
  {
   "cell_type": "code",
   "execution_count": 86,
   "metadata": {},
   "outputs": [
    {
     "name": "stdout",
     "output_type": "stream",
     "text": [
      "(16991, 2)\n"
     ]
    }
   ],
   "source": [
    "df_raw=pd.read_csv('predict_raw.csv',header=None)\n",
    "df_raw.columns = ['title','label']\n",
    "print(df_raw.shape)\n"
   ]
  },
  {
   "cell_type": "code",
   "execution_count": 93,
   "metadata": {
    "scrolled": false
   },
   "outputs": [
    {
     "data": {
      "text/html": [
       "<div>\n",
       "<style scoped>\n",
       "    .dataframe tbody tr th:only-of-type {\n",
       "        vertical-align: middle;\n",
       "    }\n",
       "\n",
       "    .dataframe tbody tr th {\n",
       "        vertical-align: top;\n",
       "    }\n",
       "\n",
       "    .dataframe thead th {\n",
       "        text-align: right;\n",
       "    }\n",
       "</style>\n",
       "<table border=\"1\" class=\"dataframe\">\n",
       "  <thead>\n",
       "    <tr style=\"text-align: right;\">\n",
       "      <th></th>\n",
       "      <th>title</th>\n",
       "      <th>label</th>\n",
       "      <th>prob</th>\n",
       "    </tr>\n",
       "  </thead>\n",
       "  <tbody>\n",
       "    <tr>\n",
       "      <th>4991</th>\n",
       "      <td>甄嬛传：谁注意到？纯元皇后对皇上并非真心，从宜修这句话可看出</td>\n",
       "      <td>3.260279</td>\n",
       "      <td>9.410088</td>\n",
       "    </tr>\n",
       "    <tr>\n",
       "      <th>15249</th>\n",
       "      <td>喜气门前绕不停，好运接连进家门的3生肖，财福滚滚！</td>\n",
       "      <td>1.799319</td>\n",
       "      <td>9.083517</td>\n",
       "    </tr>\n",
       "    <tr>\n",
       "      <th>10110</th>\n",
       "      <td>羁押3年，江苏前首富终于回归，濒临破产的公司有望拯救了！</td>\n",
       "      <td>6.021923</td>\n",
       "      <td>8.941879</td>\n",
       "    </tr>\n",
       "    <tr>\n",
       "      <th>15181</th>\n",
       "      <td>李小龙离世后，难怪他的徒弟立马娶了她的老婆，原因太现实</td>\n",
       "      <td>3.461141</td>\n",
       "      <td>8.827723</td>\n",
       "    </tr>\n",
       "    <tr>\n",
       "      <th>3778</th>\n",
       "      <td>农村家家都有的野菜，却可治疗斑疹发热、眼结膜炎、便血、赤痢</td>\n",
       "      <td>2.177002</td>\n",
       "      <td>8.811654</td>\n",
       "    </tr>\n",
       "    <tr>\n",
       "      <th>14139</th>\n",
       "      <td>三伏天，吃点红薯好处多，但别与一物同食，却有很多人不清楚</td>\n",
       "      <td>2.321839</td>\n",
       "      <td>8.751305</td>\n",
       "    </tr>\n",
       "    <tr>\n",
       "      <th>348</th>\n",
       "      <td>肾结石好点了?孙宇晨疑回应\"被边控\":周五开工</td>\n",
       "      <td>1.009732</td>\n",
       "      <td>8.622917</td>\n",
       "    </tr>\n",
       "    <tr>\n",
       "      <th>8548</th>\n",
       "      <td>雍正为何亲定富察氏为弘历嫡福晋？她是真正的白富美</td>\n",
       "      <td>2.720205</td>\n",
       "      <td>8.606672</td>\n",
       "    </tr>\n",
       "    <tr>\n",
       "      <th>10733</th>\n",
       "      <td>“地震波还有61秒到达”刷屏……惊叹科技进步之余，我们离地震“预报”还有多远？</td>\n",
       "      <td>2.131961</td>\n",
       "      <td>8.598598</td>\n",
       "    </tr>\n",
       "    <tr>\n",
       "      <th>16164</th>\n",
       "      <td>和胡歌搭戏的女演员里她徘徊三四线，被父亲报名参加《非诚勿扰》</td>\n",
       "      <td>2.646193</td>\n",
       "      <td>8.592891</td>\n",
       "    </tr>\n",
       "  </tbody>\n",
       "</table>\n",
       "</div>"
      ],
      "text/plain": [
       "                                         title     label      prob\n",
       "4991            甄嬛传：谁注意到？纯元皇后对皇上并非真心，从宜修这句话可看出  3.260279  9.410088\n",
       "15249                喜气门前绕不停，好运接连进家门的3生肖，财福滚滚！  1.799319  9.083517\n",
       "10110             羁押3年，江苏前首富终于回归，濒临破产的公司有望拯救了！  6.021923  8.941879\n",
       "15181              李小龙离世后，难怪他的徒弟立马娶了她的老婆，原因太现实  3.461141  8.827723\n",
       "3778             农村家家都有的野菜，却可治疗斑疹发热、眼结膜炎、便血、赤痢  2.177002  8.811654\n",
       "14139             三伏天，吃点红薯好处多，但别与一物同食，却有很多人不清楚  2.321839  8.751305\n",
       "348                    肾结石好点了?孙宇晨疑回应\"被边控\":周五开工  1.009732  8.622917\n",
       "8548                  雍正为何亲定富察氏为弘历嫡福晋？她是真正的白富美  2.720205  8.606672\n",
       "10733  “地震波还有61秒到达”刷屏……惊叹科技进步之余，我们离地震“预报”还有多远？  2.131961  8.598598\n",
       "16164           和胡歌搭戏的女演员里她徘徊三四线，被父亲报名参加《非诚勿扰》  2.646193  8.592891"
      ]
     },
     "execution_count": 93,
     "metadata": {},
     "output_type": "execute_result"
    }
   ],
   "source": [
    "df_res=pd.read_csv('./output_reg/test_results.csv',header=None)\n",
    "df_res.columns = ['prob']\n",
    "t=df_res.values.tolist()\n",
    "\n",
    "df_raw['prob']=[float(x[0]) for x in t]\n",
    "df_raw.sort_values(by=['prob'],ascending=False,inplace=True)\n",
    "\n",
    "df_raw.head(10)\n"
   ]
  },
  {
   "cell_type": "code",
   "execution_count": 89,
   "metadata": {},
   "outputs": [
    {
     "name": "stdout",
     "output_type": "stream",
     "text": [
      "0.832641783917482\n"
     ]
    }
   ],
   "source": [
    "\n",
    "from scipy.stats import pearsonr\n",
    "r_row, p_value =pearsonr(df_raw.label,df_raw.prob)\n",
    "print(r_row)"
   ]
  },
  {
   "cell_type": "code",
   "execution_count": 98,
   "metadata": {},
   "outputs": [
    {
     "data": {
      "text/plain": [
       "<matplotlib.axes._subplots.AxesSubplot at 0x7f0ebc594ba8>"
      ]
     },
     "execution_count": 98,
     "metadata": {},
     "output_type": "execute_result"
    },
    {
     "data": {
      "image/png": "[encoded data removed]",
      "text/plain": [
       "<Figure size 576x432 with 1 Axes>"
      ]
     },
     "metadata": {},
     "output_type": "display_data"
    }
   ],
   "source": [
    "f, ax1 = plt.subplots(1, 1, sharex=False, figsize=(8, 6))\n",
    "c1, c2, c3 = sns.color_palette('Set1', 3)\n",
    "\n",
    "sns.kdeplot(df_raw.label, shade=True, color=c1, label='label', ax=ax1)\n",
    "sns.kdeplot(df_raw.prob, shade=True, color=c2, label='predict', ax=ax1)\n"
   ]
  }
 ],
 "metadata": {
  "kernelspec": {
   "display_name": "Python 3",
   "language": "python",
   "name": "python3"
  },
  "language_info": {
   "codemirror_mode": {
    "name": "ipython",
    "version": 3
   },
   "file_extension": ".py",
   "mimetype": "text/x-python",
   "name": "python",
   "nbconvert_exporter": "python",
   "pygments_lexer": "ipython3",
   "version": "3.7.3"
  }
 },
 "nbformat": 4,
 "nbformat_minor": 2
}
